{
  "nbformat": 4,
  "nbformat_minor": 0,
  "metadata": {
    "colab": {
      "name": "CIFAR_10_CNN_pytorch_raval.ipynb",
      "provenance": []
    },
    "kernelspec": {
      "name": "python3",
      "display_name": "Python 3"
    },
    "accelerator": "GPU"
  },
  "cells": [
    {
      "cell_type": "code",
      "metadata": {
        "id": "nc5L61A78WQF",
        "colab_type": "code",
        "colab": {}
      },
      "source": [
        "import torch\n",
        "import torch.nn as nn\n",
        "import torchvision\n",
        "from torchvision.transforms import transforms\n",
        "import torch.nn.functional as F\n",
        "import matplotlib.pyplot as plt\n",
        "import numpy as np"
      ],
      "execution_count": 1,
      "outputs": []
    },
    {
      "cell_type": "code",
      "metadata": {
        "id": "sdwiAXc5drnP",
        "colab_type": "code",
        "colab": {}
      },
      "source": [
        "device = torch.device('cuda' if torch.cuda.is_available() else 'cpu')"
      ],
      "execution_count": 2,
      "outputs": []
    },
    {
      "cell_type": "code",
      "metadata": {
        "id": "W3QT6MLCd5Gk",
        "colab_type": "code",
        "colab": {}
      },
      "source": [
        "# hyoer paramenters\n",
        "num_epochs = 4\n",
        "batch_size = 4\n",
        "learning_rate = 0.001"
      ],
      "execution_count": 3,
      "outputs": []
    },
    {
      "cell_type": "code",
      "metadata": {
        "id": "uMX-lYm-edGd",
        "colab_type": "code",
        "colab": {
          "base_uri": "https://localhost:8080/",
          "height": 51
        },
        "outputId": "24fdda30-1f21-421b-8998-7ca32afb2e27"
      },
      "source": [
        "# dataset has PIL image so we have to transform it\n",
        "transform = transforms.Compose([transforms.ToTensor(),transforms.Normalize((0.5,0.5,0.5), (0.5,0.5,0.5))])\n",
        "\n",
        "# datasets\n",
        "\n",
        "train_dataset = torchvision.datasets.CIFAR10(root='data', train=True, transform=transform, download=True)\n",
        "\n",
        "test_dataset = torchvision.datasets.CIFAR10(root='data', train=True, transform=transform, download=True)\n",
        "\n",
        "# data loader\n",
        "\n",
        "train_loader = torch.utils.data.DataLoader(train_dataset,batch_size=batch_size, shuffle=True)\n",
        "\n",
        "test_loader = torch.utils.data.DataLoader(test_dataset,batch_size=batch_size, shuffle=False)"
      ],
      "execution_count": 4,
      "outputs": [
        {
          "output_type": "stream",
          "text": [
            "Files already downloaded and verified\n",
            "Files already downloaded and verified\n"
          ],
          "name": "stdout"
        }
      ]
    },
    {
      "cell_type": "code",
      "metadata": {
        "id": "xb7JtK8citoy",
        "colab_type": "code",
        "colab": {}
      },
      "source": [
        "classes  = ('plan', 'car', 'bird', 'cat', 'deer', 'dog', 'frog', 'horse', 'ship', 'truck')"
      ],
      "execution_count": 5,
      "outputs": []
    },
    {
      "cell_type": "code",
      "metadata": {
        "id": "4oydr4oxs_RS",
        "colab_type": "code",
        "colab": {}
      },
      "source": [
        "# implenment convnet\n",
        "class ConvNet(nn.Module):\n",
        "  def __init__(self):\n",
        "    super(ConvNet, self).__init__()\n",
        "    self.conv1 = nn.Conv2d(3, 6, 5)\n",
        "    self.pool = nn.MaxPool2d(2,2)\n",
        "    self.conv2 = nn.Conv2d(6, 16, 5)\n",
        "    self.fc1 = nn.Linear(16*5*5, 120)\n",
        "    self.fc2 = nn.Linear(120, 84)\n",
        "    self.fc3 = nn.Linear(84, 10)\n",
        "  def forward(self,x):\n",
        "    x = self.pool(F.relu(self.conv1(x)))\n",
        "    x = self.pool(F.relu(self.conv2(x)))\n",
        "    x = x.view(-1, 16*5*5) # flattern\n",
        "    x = F.relu(self.fc1(x))\n",
        "    x = F.relu(self.fc2(x))\n",
        "    x = self.fc3(x)\n",
        "\n",
        "    return x"
      ],
      "execution_count": 6,
      "outputs": []
    },
    {
      "cell_type": "code",
      "metadata": {
        "id": "UWFXJn_JtRsd",
        "colab_type": "code",
        "colab": {}
      },
      "source": [
        "model = ConvNet().to(device)"
      ],
      "execution_count": 7,
      "outputs": []
    },
    {
      "cell_type": "code",
      "metadata": {
        "id": "hm55dCeKtdwu",
        "colab_type": "code",
        "colab": {}
      },
      "source": [
        "# loss\n",
        "criterion = nn.CrossEntropyLoss()\n",
        "optimizer = torch.optim.SGD(model.parameters(), lr = learning_rate)"
      ],
      "execution_count": 8,
      "outputs": []
    },
    {
      "cell_type": "code",
      "metadata": {
        "id": "NoTK0PaHuDVG",
        "colab_type": "code",
        "colab": {
          "base_uri": "https://localhost:8080/",
          "height": 642
        },
        "outputId": "9f1c261b-01ef-4630-cdc4-4ab268465b68"
      },
      "source": [
        "n_total_steps = len(train_loader)\n",
        "for epoch in range(num_epochs):\n",
        "  for i, (images, labels) in enumerate(train_loader):\n",
        "    # orignaal shape [4, 3, 32, 32] = 4, 3, 1024\n",
        "    images = images.to(device)\n",
        "    labels = labels.to(device)\n",
        "\n",
        "    # forward pass\n",
        "    outputs = model(images)\n",
        "    loss = criterion(outputs, labels)\n",
        "\n",
        "    # backward and optimizer\n",
        "    optimizer.zero_grad()\n",
        "    loss.backward()\n",
        "    optimizer.step()\n",
        "\n",
        "    if (i+1) % 2000 == 0:\n",
        "            print (f'Epoch [{epoch+1}/{num_epochs}], Step [{i+1}/{n_total_steps}], Loss: {loss.item():.4f}')\n",
        "\n",
        "print('finish training')\n",
        "\n",
        "# Test the model\n",
        "# In test phase, we don't need to compute gradients (for memory efficiency)\n",
        "with torch.no_grad():\n",
        "    n_correct = 0\n",
        "    n_samples = 0\n",
        "    n_class_correct = [0 for i in range(10)]\n",
        "    n_class_samples = [0 for i in range(10)]\n",
        "    for images, labels in test_loader:\n",
        "        images = images.to(device)\n",
        "        labels = labels.to(device)\n",
        "        outputs = model(images)\n",
        "        # max returns (value ,index)\n",
        "        _, predicted = torch.max(outputs, 1)\n",
        "        n_samples += labels.size(0)\n",
        "        n_correct += (predicted == labels).sum().item()\n",
        "\n",
        "        for i in range(batch_size):\n",
        "          label = labels[i]\n",
        "          pred = predicted[i]\n",
        "          if(label == pred):\n",
        "            n_class_correct[label] += 1\n",
        "          n_class_samples[label] += 1\n",
        "\n",
        "    acc = 100.0 * n_correct / n_samples\n",
        "    print(f'Accuracy of the network : {acc} %')\n",
        "\n",
        "    for i in range(10):\n",
        "      acc = 100.0 * n_class_correct[i] / n_class_samples[i]\n",
        "      print(f'Accuracy of {classes[i]} : {acc} %')\n"
      ],
      "execution_count": 10,
      "outputs": [
        {
          "output_type": "stream",
          "text": [
            "Epoch [1/4], Step [2000/12500], Loss: 1.7544\n",
            "Epoch [1/4], Step [4000/12500], Loss: 1.9869\n",
            "Epoch [1/4], Step [6000/12500], Loss: 1.1922\n",
            "Epoch [1/4], Step [8000/12500], Loss: 1.8317\n",
            "Epoch [1/4], Step [10000/12500], Loss: 0.7314\n",
            "Epoch [1/4], Step [12000/12500], Loss: 0.3850\n",
            "Epoch [2/4], Step [2000/12500], Loss: 1.7601\n",
            "Epoch [2/4], Step [4000/12500], Loss: 1.2057\n",
            "Epoch [2/4], Step [6000/12500], Loss: 1.0707\n",
            "Epoch [2/4], Step [8000/12500], Loss: 1.0874\n",
            "Epoch [2/4], Step [10000/12500], Loss: 1.6605\n",
            "Epoch [2/4], Step [12000/12500], Loss: 0.8912\n",
            "Epoch [3/4], Step [2000/12500], Loss: 1.2028\n",
            "Epoch [3/4], Step [4000/12500], Loss: 1.6589\n",
            "Epoch [3/4], Step [6000/12500], Loss: 0.5511\n",
            "Epoch [3/4], Step [8000/12500], Loss: 0.3829\n",
            "Epoch [3/4], Step [10000/12500], Loss: 0.9722\n",
            "Epoch [3/4], Step [12000/12500], Loss: 1.4527\n",
            "Epoch [4/4], Step [2000/12500], Loss: 0.7889\n",
            "Epoch [4/4], Step [4000/12500], Loss: 0.7636\n",
            "Epoch [4/4], Step [6000/12500], Loss: 1.4348\n",
            "Epoch [4/4], Step [8000/12500], Loss: 1.7219\n",
            "Epoch [4/4], Step [10000/12500], Loss: 0.5118\n",
            "Epoch [4/4], Step [12000/12500], Loss: 1.4210\n",
            "finish training\n",
            "Accuracy of the network : 56.052 %\n",
            "Accuracy of plan : 69.32 %\n",
            "Accuracy of car : 67.58 %\n",
            "Accuracy of bird : 51.84 %\n",
            "Accuracy of cat : 23.66 %\n",
            "Accuracy of deer : 55.6 %\n",
            "Accuracy of dog : 46.88 %\n",
            "Accuracy of frog : 59.14 %\n",
            "Accuracy of horse : 67.08 %\n",
            "Accuracy of ship : 64.38 %\n",
            "Accuracy of truck : 55.04 %\n"
          ],
          "name": "stdout"
        }
      ]
    },
    {
      "cell_type": "code",
      "metadata": {
        "id": "fT-WWtXZ-Kry",
        "colab_type": "code",
        "colab": {}
      },
      "source": [
        ""
      ],
      "execution_count": null,
      "outputs": []
    }
  ]
}